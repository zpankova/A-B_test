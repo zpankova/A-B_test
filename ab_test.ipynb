{
 "cells": [
  {
   "cell_type": "markdown",
   "metadata": {
    "id": "bgpGXxnecGUn"
   },
   "source": [
    "## A/B тест"
   ]
  },
  {
   "cell_type": "code",
   "execution_count": 71,
   "metadata": {
    "id": "zqb1HJKXSHEM"
   },
   "outputs": [],
   "source": [
    "import pandas as pd\n",
    "import numpy as np\n",
    "from random import randint, shuffle\n",
    "from itertools import groupby\n",
    "import matplotlib.pyplot as plt\n",
    "from scipy.stats import permutation_test"
   ]
  },
  {
   "cell_type": "code",
   "execution_count": 72,
   "metadata": {
    "colab": {
     "base_uri": "https://localhost:8080/",
     "height": 143
    },
    "id": "7Kn6_9aFjjJl",
    "outputId": "e5490101-d0af-4405-f1ed-20588c10d784"
   },
   "outputs": [
    {
     "data": {
      "application/vnd.google.colaboratory.intrinsic+json": {
       "summary": "{\n  \"name\": \"df\",\n  \"rows\": 3,\n  \"fields\": [\n    {\n      \"column\": \"userid\",\n      \"properties\": {\n        \"dtype\": \"string\",\n        \"num_unique_values\": 3,\n        \"samples\": [\n          \"user_10009\",\n          \"user_10343\",\n          \"user_13454\"\n        ],\n        \"semantic_type\": \"\",\n        \"description\": \"\"\n      }\n    },\n    {\n      \"column\": \"timestamp\",\n      \"properties\": {\n        \"dtype\": \"number\",\n        \"std\": 1509079,\n        \"min\": 1659034056,\n        \"max\": 1661968551,\n        \"num_unique_values\": 3,\n        \"samples\": [\n          1661968551,\n          1659034056,\n          1659890143\n        ],\n        \"semantic_type\": \"\",\n        \"description\": \"\"\n      }\n    },\n    {\n      \"column\": \"action\",\n      \"properties\": {\n        \"dtype\": \"category\",\n        \"num_unique_values\": 1,\n        \"samples\": [\n          \"confirmation\"\n        ],\n        \"semantic_type\": \"\",\n        \"description\": \"\"\n      }\n    },\n    {\n      \"column\": \"value\",\n      \"properties\": {\n        \"dtype\": \"number\",\n        \"std\": 0.0,\n        \"min\": 3790.0,\n        \"max\": 3790.0,\n        \"num_unique_values\": 1,\n        \"samples\": [\n          3790.0\n        ],\n        \"semantic_type\": \"\",\n        \"description\": \"\"\n      }\n    },\n    {\n      \"column\": \"testids\",\n      \"properties\": {\n        \"dtype\": \"string\",\n        \"num_unique_values\": 3,\n        \"samples\": [\n          \"13535;23346;23464;25661;34265\"\n        ],\n        \"semantic_type\": \"\",\n        \"description\": \"\"\n      }\n    }\n  ]\n}",
       "type": "dataframe"
      },
      "text/html": [
       "\n",
       "  <div id=\"df-7eeaa7f6-9d49-4eda-8921-25630b0f1e59\" class=\"colab-df-container\">\n",
       "    <div>\n",
       "<style scoped>\n",
       "    .dataframe tbody tr th:only-of-type {\n",
       "        vertical-align: middle;\n",
       "    }\n",
       "\n",
       "    .dataframe tbody tr th {\n",
       "        vertical-align: top;\n",
       "    }\n",
       "\n",
       "    .dataframe thead th {\n",
       "        text-align: right;\n",
       "    }\n",
       "</style>\n",
       "<table border=\"1\" class=\"dataframe\">\n",
       "  <thead>\n",
       "    <tr style=\"text-align: right;\">\n",
       "      <th></th>\n",
       "      <th>userid</th>\n",
       "      <th>timestamp</th>\n",
       "      <th>action</th>\n",
       "      <th>value</th>\n",
       "      <th>testids</th>\n",
       "    </tr>\n",
       "  </thead>\n",
       "  <tbody>\n",
       "    <tr>\n",
       "      <th>853</th>\n",
       "      <td>user_10009</td>\n",
       "      <td>1661968551</td>\n",
       "      <td>confirmation</td>\n",
       "      <td>3790.0</td>\n",
       "      <td>13535;23346;23464;25661;34265</td>\n",
       "    </tr>\n",
       "    <tr>\n",
       "      <th>33381</th>\n",
       "      <td>user_10343</td>\n",
       "      <td>1659034056</td>\n",
       "      <td>confirmation</td>\n",
       "      <td>3790.0</td>\n",
       "      <td>13534;23345;23463;25662</td>\n",
       "    </tr>\n",
       "    <tr>\n",
       "      <th>337362</th>\n",
       "      <td>user_13454</td>\n",
       "      <td>1659890143</td>\n",
       "      <td>confirmation</td>\n",
       "      <td>3790.0</td>\n",
       "      <td>13535;23345;23463;25662</td>\n",
       "    </tr>\n",
       "  </tbody>\n",
       "</table>\n",
       "</div>\n",
       "    <div class=\"colab-df-buttons\">\n",
       "\n",
       "  <div class=\"colab-df-container\">\n",
       "    <button class=\"colab-df-convert\" onclick=\"convertToInteractive('df-7eeaa7f6-9d49-4eda-8921-25630b0f1e59')\"\n",
       "            title=\"Convert this dataframe to an interactive table.\"\n",
       "            style=\"display:none;\">\n",
       "\n",
       "  <svg xmlns=\"http://www.w3.org/2000/svg\" height=\"24px\" viewBox=\"0 -960 960 960\">\n",
       "    <path d=\"M120-120v-720h720v720H120Zm60-500h600v-160H180v160Zm220 220h160v-160H400v160Zm0 220h160v-160H400v160ZM180-400h160v-160H180v160Zm440 0h160v-160H620v160ZM180-180h160v-160H180v160Zm440 0h160v-160H620v160Z\"/>\n",
       "  </svg>\n",
       "    </button>\n",
       "\n",
       "  <style>\n",
       "    .colab-df-container {\n",
       "      display:flex;\n",
       "      gap: 12px;\n",
       "    }\n",
       "\n",
       "    .colab-df-convert {\n",
       "      background-color: #E8F0FE;\n",
       "      border: none;\n",
       "      border-radius: 50%;\n",
       "      cursor: pointer;\n",
       "      display: none;\n",
       "      fill: #1967D2;\n",
       "      height: 32px;\n",
       "      padding: 0 0 0 0;\n",
       "      width: 32px;\n",
       "    }\n",
       "\n",
       "    .colab-df-convert:hover {\n",
       "      background-color: #E2EBFA;\n",
       "      box-shadow: 0px 1px 2px rgba(60, 64, 67, 0.3), 0px 1px 3px 1px rgba(60, 64, 67, 0.15);\n",
       "      fill: #174EA6;\n",
       "    }\n",
       "\n",
       "    .colab-df-buttons div {\n",
       "      margin-bottom: 4px;\n",
       "    }\n",
       "\n",
       "    [theme=dark] .colab-df-convert {\n",
       "      background-color: #3B4455;\n",
       "      fill: #D2E3FC;\n",
       "    }\n",
       "\n",
       "    [theme=dark] .colab-df-convert:hover {\n",
       "      background-color: #434B5C;\n",
       "      box-shadow: 0px 1px 3px 1px rgba(0, 0, 0, 0.15);\n",
       "      filter: drop-shadow(0px 1px 2px rgba(0, 0, 0, 0.3));\n",
       "      fill: #FFFFFF;\n",
       "    }\n",
       "  </style>\n",
       "\n",
       "    <script>\n",
       "      const buttonEl =\n",
       "        document.querySelector('#df-7eeaa7f6-9d49-4eda-8921-25630b0f1e59 button.colab-df-convert');\n",
       "      buttonEl.style.display =\n",
       "        google.colab.kernel.accessAllowed ? 'block' : 'none';\n",
       "\n",
       "      async function convertToInteractive(key) {\n",
       "        const element = document.querySelector('#df-7eeaa7f6-9d49-4eda-8921-25630b0f1e59');\n",
       "        const dataTable =\n",
       "          await google.colab.kernel.invokeFunction('convertToInteractive',\n",
       "                                                    [key], {});\n",
       "        if (!dataTable) return;\n",
       "\n",
       "        const docLinkHtml = 'Like what you see? Visit the ' +\n",
       "          '<a target=\"_blank\" href=https://colab.research.google.com/notebooks/data_table.ipynb>data table notebook</a>'\n",
       "          + ' to learn more about interactive tables.';\n",
       "        element.innerHTML = '';\n",
       "        dataTable['output_type'] = 'display_data';\n",
       "        await google.colab.output.renderOutput(dataTable, element);\n",
       "        const docLink = document.createElement('div');\n",
       "        docLink.innerHTML = docLinkHtml;\n",
       "        element.appendChild(docLink);\n",
       "      }\n",
       "    </script>\n",
       "  </div>\n",
       "\n",
       "\n",
       "<div id=\"df-a4e4f2f3-232a-45a2-b5a5-52cd3fecd46e\">\n",
       "  <button class=\"colab-df-quickchart\" onclick=\"quickchart('df-a4e4f2f3-232a-45a2-b5a5-52cd3fecd46e')\"\n",
       "            title=\"Suggest charts\"\n",
       "            style=\"display:none;\">\n",
       "\n",
       "<svg xmlns=\"http://www.w3.org/2000/svg\" height=\"24px\"viewBox=\"0 0 24 24\"\n",
       "     width=\"24px\">\n",
       "    <g>\n",
       "        <path d=\"M19 3H5c-1.1 0-2 .9-2 2v14c0 1.1.9 2 2 2h14c1.1 0 2-.9 2-2V5c0-1.1-.9-2-2-2zM9 17H7v-7h2v7zm4 0h-2V7h2v10zm4 0h-2v-4h2v4z\"/>\n",
       "    </g>\n",
       "</svg>\n",
       "  </button>\n",
       "\n",
       "<style>\n",
       "  .colab-df-quickchart {\n",
       "      --bg-color: #E8F0FE;\n",
       "      --fill-color: #1967D2;\n",
       "      --hover-bg-color: #E2EBFA;\n",
       "      --hover-fill-color: #174EA6;\n",
       "      --disabled-fill-color: #AAA;\n",
       "      --disabled-bg-color: #DDD;\n",
       "  }\n",
       "\n",
       "  [theme=dark] .colab-df-quickchart {\n",
       "      --bg-color: #3B4455;\n",
       "      --fill-color: #D2E3FC;\n",
       "      --hover-bg-color: #434B5C;\n",
       "      --hover-fill-color: #FFFFFF;\n",
       "      --disabled-bg-color: #3B4455;\n",
       "      --disabled-fill-color: #666;\n",
       "  }\n",
       "\n",
       "  .colab-df-quickchart {\n",
       "    background-color: var(--bg-color);\n",
       "    border: none;\n",
       "    border-radius: 50%;\n",
       "    cursor: pointer;\n",
       "    display: none;\n",
       "    fill: var(--fill-color);\n",
       "    height: 32px;\n",
       "    padding: 0;\n",
       "    width: 32px;\n",
       "  }\n",
       "\n",
       "  .colab-df-quickchart:hover {\n",
       "    background-color: var(--hover-bg-color);\n",
       "    box-shadow: 0 1px 2px rgba(60, 64, 67, 0.3), 0 1px 3px 1px rgba(60, 64, 67, 0.15);\n",
       "    fill: var(--button-hover-fill-color);\n",
       "  }\n",
       "\n",
       "  .colab-df-quickchart-complete:disabled,\n",
       "  .colab-df-quickchart-complete:disabled:hover {\n",
       "    background-color: var(--disabled-bg-color);\n",
       "    fill: var(--disabled-fill-color);\n",
       "    box-shadow: none;\n",
       "  }\n",
       "\n",
       "  .colab-df-spinner {\n",
       "    border: 2px solid var(--fill-color);\n",
       "    border-color: transparent;\n",
       "    border-bottom-color: var(--fill-color);\n",
       "    animation:\n",
       "      spin 1s steps(1) infinite;\n",
       "  }\n",
       "\n",
       "  @keyframes spin {\n",
       "    0% {\n",
       "      border-color: transparent;\n",
       "      border-bottom-color: var(--fill-color);\n",
       "      border-left-color: var(--fill-color);\n",
       "    }\n",
       "    20% {\n",
       "      border-color: transparent;\n",
       "      border-left-color: var(--fill-color);\n",
       "      border-top-color: var(--fill-color);\n",
       "    }\n",
       "    30% {\n",
       "      border-color: transparent;\n",
       "      border-left-color: var(--fill-color);\n",
       "      border-top-color: var(--fill-color);\n",
       "      border-right-color: var(--fill-color);\n",
       "    }\n",
       "    40% {\n",
       "      border-color: transparent;\n",
       "      border-right-color: var(--fill-color);\n",
       "      border-top-color: var(--fill-color);\n",
       "    }\n",
       "    60% {\n",
       "      border-color: transparent;\n",
       "      border-right-color: var(--fill-color);\n",
       "    }\n",
       "    80% {\n",
       "      border-color: transparent;\n",
       "      border-right-color: var(--fill-color);\n",
       "      border-bottom-color: var(--fill-color);\n",
       "    }\n",
       "    90% {\n",
       "      border-color: transparent;\n",
       "      border-bottom-color: var(--fill-color);\n",
       "    }\n",
       "  }\n",
       "</style>\n",
       "\n",
       "  <script>\n",
       "    async function quickchart(key) {\n",
       "      const quickchartButtonEl =\n",
       "        document.querySelector('#' + key + ' button');\n",
       "      quickchartButtonEl.disabled = true;  // To prevent multiple clicks.\n",
       "      quickchartButtonEl.classList.add('colab-df-spinner');\n",
       "      try {\n",
       "        const charts = await google.colab.kernel.invokeFunction(\n",
       "            'suggestCharts', [key], {});\n",
       "      } catch (error) {\n",
       "        console.error('Error during call to suggestCharts:', error);\n",
       "      }\n",
       "      quickchartButtonEl.classList.remove('colab-df-spinner');\n",
       "      quickchartButtonEl.classList.add('colab-df-quickchart-complete');\n",
       "    }\n",
       "    (() => {\n",
       "      let quickchartButtonEl =\n",
       "        document.querySelector('#df-a4e4f2f3-232a-45a2-b5a5-52cd3fecd46e button');\n",
       "      quickchartButtonEl.style.display =\n",
       "        google.colab.kernel.accessAllowed ? 'block' : 'none';\n",
       "    })();\n",
       "  </script>\n",
       "</div>\n",
       "    </div>\n",
       "  </div>\n"
      ],
      "text/plain": [
       "            userid   timestamp        action   value  \\\n",
       "853     user_10009  1661968551  confirmation  3790.0   \n",
       "33381   user_10343  1659034056  confirmation  3790.0   \n",
       "337362  user_13454  1659890143  confirmation  3790.0   \n",
       "\n",
       "                              testids  \n",
       "853     13535;23346;23464;25661;34265  \n",
       "33381         13534;23345;23463;25662  \n",
       "337362        13535;23345;23463;25662  "
      ]
     },
     "execution_count": 72,
     "metadata": {},
     "output_type": "execute_result"
    }
   ],
   "source": [
    "df = pd.read_csv('/content/exp_arppu_problem.tsv', sep = '\\t')\n",
    "df.loc[((df['value'] == 3790.0) & (df['action'] == 'confirmation'))]"
   ]
  },
  {
   "cell_type": "markdown",
   "metadata": {
    "id": "TGqrTKUjSlCM"
   },
   "source": [
    "прочитаем файл"
   ]
  },
  {
   "cell_type": "code",
   "execution_count": 97,
   "metadata": {
    "id": "aCwf_EvCSQMp"
   },
   "outputs": [],
   "source": [
    "all_events = []\n",
    "log_file = \"/content/exp_arppu_problem.tsv\"\n",
    "with open(log_file, 'r') as f:\n",
    "    f.readline()\n",
    "    for line in f:\n",
    "        parts = line.strip().split(\"\\t\")\n",
    "        userid = parts[0]\n",
    "        timestamp = int(parts[1])\n",
    "        action = parts[2]\n",
    "        value = float(parts[3])\n",
    "        testids = parts[4]\n",
    "        all_events.append((userid, timestamp, action, value, testids))\n",
    "\n",
    "all_events.sort(key=lambda x: x[0])"
   ]
  },
  {
   "cell_type": "markdown",
   "metadata": {
    "id": "L_cz4Z-ucQe_"
   },
   "source": [
    "Цель проведения AB-теста: посмотреть на влияние изменений в продукте на монетизацию\n",
    "\n",
    "Посмотрим на поведение метрик ARPU и ARPPU. ARPU может быть \"зашумлена\" при наличии существенной доли пользователей, не приносящих доход. ARPPU же более чувствительна к реальным изменениям средней величины дохода."
   ]
  },
  {
   "cell_type": "markdown",
   "metadata": {
    "id": "pzqvM2JFSm8x"
   },
   "source": [
    "Разделим на тестовую и контрольную выборки"
   ]
  },
  {
   "cell_type": "code",
   "execution_count": 98,
   "metadata": {
    "id": "aX2f73lZSqd6"
   },
   "outputs": [],
   "source": [
    "exp_testid = 34265\n",
    "control_testid = 34266\n",
    "def with_testid(testid):\n",
    " return lambda e: str(testid) in e[4]\n",
    "exp_events = list(filter(with_testid(exp_testid), all_events))\n",
    "control_events = list(filter(with_testid(control_testid), all_events))"
   ]
  },
  {
   "cell_type": "markdown",
   "metadata": {
    "id": "YwX8YYJ5Ut5F"
   },
   "source": [
    "Нулевая гипотеза ($H_{0}$) - ARPU/ARPPU тестовой и контрольной выборок не отличаются\n",
    "\n",
    "Альтернативная гипотеза ($H_{1}$) - ARPU/ARPPU тестовой и контрольной выборок отличаются"
   ]
  },
  {
   "cell_type": "markdown",
   "metadata": {
    "id": "KUdPjl5-TFBh"
   },
   "source": [
    "посчитаем arpu, p-value и покрасим тест\n",
    "\n",
    "Зафиксируем $\\alpha$ = 0.05"
   ]
  },
  {
   "cell_type": "code",
   "execution_count": 99,
   "metadata": {
    "id": "gN0dhMlnTgDJ"
   },
   "outputs": [],
   "source": [
    "def color(p, test_v, control_v):\n",
    "  if p > 0.05: return \"grey\"\n",
    "  else:\n",
    "    if test_v > control_v: return \"green\"\n",
    "    else: return \"red\""
   ]
  },
  {
   "cell_type": "code",
   "execution_count": 76,
   "metadata": {
    "id": "yV0D_3SgS5Us"
   },
   "outputs": [],
   "source": [
    "def revenues_by_user(events):\n",
    " return [\n",
    "    sum(e[3] for e in user_events if e[2] == \"confirmation\")\n",
    "    for user, user_events in groupby(events, lambda e: e[0])\n",
    " ]\n",
    "exp_revenues = revenues_by_user(exp_events)\n",
    "control_revenues = revenues_by_user(control_events)"
   ]
  },
  {
   "cell_type": "code",
   "execution_count": 77,
   "metadata": {
    "id": "diXi6ojeTmAl"
   },
   "outputs": [],
   "source": [
    "np.random.seed(177)\n",
    "def arpu(a):\n",
    " return np.mean(a)\n",
    "\n",
    "def statistic(a, b):\n",
    " return arpu(a) - arpu(b)\n",
    "result = permutation_test((exp_revenues, control_revenues), statistic, permutation_type=\"independent\")\n",
    "p_arpu = result.pvalue"
   ]
  },
  {
   "cell_type": "code",
   "execution_count": 78,
   "metadata": {
    "id": "OIVPboOLTtMZ"
   },
   "outputs": [],
   "source": [
    "np.random.seed(177)\n",
    "def new(a, b):\n",
    "  a_new = []\n",
    "  for i in a:\n",
    "    if i!=0:\n",
    "      a_new.append(i)\n",
    "  b_new = []\n",
    "  for i in b:\n",
    "    if i!=0:\n",
    "      b_new.append(i)\n",
    "  return a_new, b_new\n",
    "def statistic(a, b):\n",
    "  a_new, b_new = new(a, b)\n",
    "  return arpu(a_new) - arpu(b_new)\n",
    "result = permutation_test((exp_revenues, control_revenues), statistic, permutation_type=\"independent\")\n",
    "p_arppu = result.pvalue"
   ]
  },
  {
   "cell_type": "code",
   "execution_count": 80,
   "metadata": {
    "id": "OJU7cRBwT7Ou"
   },
   "outputs": [],
   "source": [
    "a_new, b_new = new(exp_revenues, control_revenues)\n",
    "col_arppu = color(p_arppu, arpu(a_new), arpu(b_new))\n",
    "col_arpu = color(p_arpu, arpu(exp_revenues), arpu(control_revenues))"
   ]
  },
  {
   "cell_type": "code",
   "execution_count": 81,
   "metadata": {
    "colab": {
     "base_uri": "https://localhost:8080/"
    },
    "id": "JxjGwapcUJ8A",
    "outputId": "00dac473-c196-4d1e-eb24-3abe324e2ff4"
   },
   "outputs": [
    {
     "name": "stdout",
     "output_type": "stream",
     "text": [
      "0.0014 red\n",
      "0.042 green\n"
     ]
    }
   ],
   "source": [
    "print(p_arpu, col_arpu)\n",
    "print(p_arppu, col_arppu)"
   ]
  },
  {
   "cell_type": "markdown",
   "metadata": {
    "id": "e1BdAMfSXoq9"
   },
   "source": [
    "Результаты:\n",
    "```\n",
    "0.0014 red\n",
    "0.042 green\n",
    "```\n",
    "\n",
    "Для ARPU и для ARPPU на уровне значимости $\\alpha$ = 0.05 $H_{0}$ отвергаем, так как p_value в обоих случаях < 0.05\n",
    "\n",
    "Следовательно:\n",
    "\n",
    "1.   есть статзначимое изменение в метриках в тестовой группе по сравнению с контрольной (метрики отличаются - подтверждение альтернативной гипотезы)\n",
    "2.   Для ARPU вердикт red означает, что метрика «прокрасилась в минус» (в тестовой выборке есть статзначимое на уровне α изменение в отрицательную сторону), то есть ARPU меньше в тестовой\n",
    "3.   Для ARPPU вердикт green означает, что метрика «прокрасилась в плюс» (в тестовой выборке есть статзначимое на уровне α изменение в положительную сторону), то есть ARPPU больше в тестовой\n",
    "\n",
    "Можно сделать вывод, что в тестовой группе хоть и меньше средний доход с пользователя, но больше доход с платящего пользователя. То есть возможно меньше платящих пользователей, чем в контрольной, но каждый из них приносит нам больше денег, чем платящий пользователь из контрольной группы.\n",
    "\n",
    "\n",
    "Выдвинем продуктовые гипотезы:\n",
    "\n",
    "Такая ситуация возможна, если изменение в продукте\n",
    "\n",
    "1.   привлекло больше оптовых клиентов (можно проверить, посчитав средний чек на заказ AOV, а не на пользователя)\n",
    "2.   привлекло больше клиентов, покупающих дорогостоящие товары (нужны данные по количеству товаров в одном заказе)\n",
    "3.   привело к снижению конверсии в оплату среди пользователей тестовой группы (посмотреть на ConvertionRate)\n",
    "\n",
    "\n"
   ]
  },
  {
   "cell_type": "markdown",
   "metadata": {
    "id": "-55RuXDxiSS5"
   },
   "source": [
    "Проверим гипотезы 1 ($H_{0}$ - средние чеки в тестовой и контрольной выборках не отличаются)\n",
    "\n",
    "2 ($H_{0}$ - средние стоимости добавленного в корзину товара в тестовой и контрольной выборках не отличаются)\n",
    "\n",
    "и 3 ($H_{0}$ - средние чеки в тестовой и контрольной выборках не отличаются)"
   ]
  },
  {
   "cell_type": "code",
   "execution_count": 107,
   "metadata": {
    "id": "7ZBBpvObiVhx"
   },
   "outputs": [],
   "source": [
    "def revenues_by_order(events):\n",
    " return [\n",
    "    e[3] for e in events if e[2] == \"confirmation\"\n",
    " ]\n",
    "exp_revenues_order = revenues_by_order(exp_events)\n",
    "control_revenues_order = revenues_by_order(control_events)"
   ]
  },
  {
   "cell_type": "code",
   "execution_count": 108,
   "metadata": {
    "id": "iy-cpQkLnZhh"
   },
   "outputs": [],
   "source": [
    "np.random.seed(177)\n",
    "def aov(a):\n",
    " return np.mean(a)\n",
    "\n",
    "def statistic(a, b):\n",
    " return aov(a) - aov(b)\n",
    "result = permutation_test((exp_revenues_order, control_revenues_order), statistic, permutation_type=\"independent\")\n",
    "p_aov = result.pvalue\n",
    "col_aov = color(p_aov, aov(exp_revenues_order), aov(control_revenues_order))"
   ]
  },
  {
   "cell_type": "code",
   "execution_count": 109,
   "metadata": {
    "colab": {
     "base_uri": "https://localhost:8080/"
    },
    "id": "6bd_f5k1ny09",
    "outputId": "846dc4a2-ee97-4575-bcee-88b005b77851"
   },
   "outputs": [
    {
     "name": "stdout",
     "output_type": "stream",
     "text": [
      "0.0002 green\n"
     ]
    }
   ],
   "source": [
    "print(p_aov, col_aov)"
   ]
  },
  {
   "cell_type": "markdown",
   "metadata": {
    "id": "M3MwK-SaoJEe"
   },
   "source": [
    "Отвергаем $H_{0}$ (средние чеки в тестовой и контрольной выборках не отличаются) с уровнем значимости $\\alpha$ = 0.05\n",
    "\n",
    "Получается, что aov(test) > aov(control), так как метрика прокрасилась в green."
   ]
  },
  {
   "cell_type": "code",
   "execution_count": 111,
   "metadata": {
    "id": "LZFt27WGw-TA"
   },
   "outputs": [],
   "source": [
    "def value_by_carts(events):\n",
    " return [\n",
    "    e[3] for e in events if e[2] == \"cart\"\n",
    " ]\n",
    "exp_carts = value_by_carts(exp_events)\n",
    "control_carts = value_by_carts(control_events)"
   ]
  },
  {
   "cell_type": "code",
   "execution_count": 112,
   "metadata": {
    "id": "B_rExb3Fw_Ag"
   },
   "outputs": [],
   "source": [
    "np.random.seed(177)\n",
    "def mean(a):\n",
    " return np.mean(a)\n",
    "\n",
    "def statistic(a, b):\n",
    " return mean(a) - mean(b)\n",
    "result = permutation_test((exp_carts, control_carts), statistic, permutation_type=\"independent\")\n",
    "p_cart = result.pvalue\n",
    "col_cart = color(p_cart, mean(exp_carts), mean(control_carts))"
   ]
  },
  {
   "cell_type": "code",
   "execution_count": 113,
   "metadata": {
    "colab": {
     "base_uri": "https://localhost:8080/"
    },
    "id": "kXJTsHyGxgNl",
    "outputId": "ab13264e-db5c-4725-8d8c-babaa2612025"
   },
   "outputs": [
    {
     "name": "stdout",
     "output_type": "stream",
     "text": [
      "0.0002 green\n"
     ]
    }
   ],
   "source": [
    "print(p_cart, col_cart)"
   ]
  },
  {
   "cell_type": "markdown",
   "metadata": {
    "id": "lGvX2J7qxBqV"
   },
   "source": [
    "Отвергаем $H_{0}$ (средние стоимости добавленного в корзину товара в тестовой и контрольной выборках не отличаются) с уровнем значимости $\\alpha$ = 0.05\n",
    "\n",
    "Получается, что в тесте покупают более дорогие товары, чем в контрольной группе, так как метрика прокрасилась в green."
   ]
  },
  {
   "cell_type": "code",
   "execution_count": 110,
   "metadata": {
    "colab": {
     "base_uri": "https://localhost:8080/"
    },
    "id": "e1Nw7GIGohan",
    "outputId": "c3c76f86-8f84-459d-a610-f174e3565b32"
   },
   "outputs": [
    {
     "name": "stdout",
     "output_type": "stream",
     "text": [
      "0.6126482213438735\n",
      "1.0092213114754098\n",
      "0.0 red\n"
     ]
    }
   ],
   "source": [
    "def checkouts_by_user(events):\n",
    "  return [\n",
    "    sum(1 for e in user_events if e[2] == \"confirmation\")\n",
    "    for user, user_events in groupby(events, lambda e: e[0])\n",
    " ]\n",
    "exp_conf = checkouts_by_user(exp_events)\n",
    "control_conf = checkouts_by_user(control_events)\n",
    "print(np.mean(exp_conf))\n",
    "print(np.mean(control_conf))\n",
    "\n",
    "np.random.seed(177)\n",
    "\n",
    "def CR(a):\n",
    " return np.mean(a)\n",
    "\n",
    "def statistic(a, b):\n",
    " return CR(b) - CR(a)\n",
    "result = permutation_test((exp_conf, control_conf), statistic, permutation_type='independent', alternative='two-sided')\n",
    "p_CR = result.pvalue\n",
    "col_CR = color(p_CR, CR(exp_conf), CR(control_conf))\n",
    "print(round(p_CR, 3), col_CR)"
   ]
  },
  {
   "cell_type": "markdown",
   "metadata": {
    "id": "emZNARK1syiD"
   },
   "source": [
    "Отвергаем $H_{0}$ (средние чеки в тестовой и контрольной выборках не отличаются) с уровнем значимости $\\alpha$ = 0.05\n",
    "\n",
    "Получается, что в тестовой выборке конверсия упала, так как метрика прокрасилась в red"
   ]
  },
  {
   "cell_type": "markdown",
   "metadata": {
    "id": "j65a4f9Bvhw-"
   },
   "source": [
    "\n",
    "\n",
    "---\n",
    "Выводы:\n",
    "\n",
    "\n",
    "1.   Средний чек на заказ в тестовой группе больше, чем в контрольной.\n",
    "2.   Средняя стоимость товара в корзине в тестовой группе больше, чем в контрольной.\n",
    "3.   Конверсия в покупку в тестовой группе меньше, чем в контрольной.\n",
    "\n",
    "Данные показывают, что возможно выдвинутые продуктовые гипотезы верны и изменение в продукте привело к изменению поведения пользователей\n",
    "\n",
    "\n"
   ]
  }
 ],
 "metadata": {
  "colab": {
   "provenance": []
  },
  "kernelspec": {
   "display_name": "Python 3 (ipykernel)",
   "language": "python",
   "name": "python3"
  },
  "language_info": {
   "codemirror_mode": {
    "name": "ipython",
    "version": 3
   },
   "file_extension": ".py",
   "mimetype": "text/x-python",
   "name": "python",
   "nbconvert_exporter": "python",
   "pygments_lexer": "ipython3",
   "version": "3.11.7"
  }
 },
 "nbformat": 4,
 "nbformat_minor": 4
}
